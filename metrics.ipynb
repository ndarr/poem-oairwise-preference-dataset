{
 "cells": [
  {
   "cell_type": "code",
   "execution_count": 1,
   "metadata": {},
   "outputs": [],
   "source": [
    "import csv\n",
    "import json\n",
    "import jsonpickle\n",
    "from collections import Counter\n",
    "from dataset_utils import DatasetEntry"
   ]
  },
  {
   "cell_type": "markdown",
   "metadata": {},
   "source": [
    "# Read annotated datasets"
   ]
  },
  {
   "cell_type": "code",
   "execution_count": 2,
   "metadata": {},
   "outputs": [
    {
     "name": "stdout",
     "output_type": "stream",
     "text": [
      "Total entries collected: 10809\n"
     ]
    }
   ],
   "source": [
    "import numpy as np\n",
    "\n",
    "# Path to extension dataset\n",
    "batch_path_ext = \"batch_results/Batch_4278643_batch_results_ext.csv\"\n",
    "# Path to main dataset\n",
    "batch_path_main = \"batch_results/Batch_4265208_batch_results_main.csv\"\n",
    "\n",
    "csv_lines_main = []\n",
    "with open(batch_path_main, \"r\") as csv_file:\n",
    "    csv_reader = csv.reader(csv_file)\n",
    "    csv_lines_main = list(csv_reader)\n",
    "\n",
    "csv_lines_ext = []\n",
    "with open(batch_path_ext, \"r\") as csv_file:\n",
    "    csv_reader = csv.reader(csv_file)\n",
    "    csv_lines_ext = list(csv_reader)\n",
    "\n",
    "# Get all columns but leave out 'Approve' 'Reject' since they are not in the Data yet\n",
    "columns_main = csv_lines_main[0][:-2]\n",
    "data_lines_main = csv_lines_main[1:]\n",
    "\n",
    "csv_entries_main = []\n",
    "for line in data_lines_main:\n",
    "    entry = dict()\n",
    "    for idx, col in enumerate(columns_main):\n",
    "        entry[col] = line[idx]\n",
    "    csv_entries_main.append(entry)\n",
    "    \n",
    "# Get all columns but leave out 'Approve' 'Reject' since they are not in the Data yet\n",
    "columns_ext = csv_lines_ext[0][:-2]\n",
    "data_lines_ext = csv_lines_ext[1:]\n",
    "\n",
    "csv_entries_ext = []\n",
    "for line in data_lines_ext:\n",
    "    entry = dict()\n",
    "    for idx, col in enumerate(columns_ext):\n",
    "        entry[col] = line[idx]\n",
    "    csv_entries_ext.append(entry)\n",
    "    \n",
    "csv_entries = csv_entries_main + csv_entries_ext\n",
    "print(f\"Total entries collected: {len(csv_entries)}\")"
   ]
  },
  {
   "cell_type": "markdown",
   "metadata": {},
   "source": [
    "# General worker statistics"
   ]
  },
  {
   "cell_type": "code",
   "execution_count": 3,
   "metadata": {},
   "outputs": [
    {
     "name": "stdout",
     "output_type": "stream",
     "text": [
      "Num Workers: 246\n",
      "Mean of assignments one worker has done: 43.9390243902439\n",
      "Median of assignments one worker has done: 4.0\n",
      "Std Dev of assignments one worker has done: 169.06376149391943\n",
      "Percent of workers did 10 or less: 0.6788617886178862\n",
      "Percent of workers did only one task: 0.2926829268292683\n",
      "Number of workers did only one task: 72\n"
     ]
    },
    {
     "data": {
      "image/png": "[encoded data removed]",
      "text/plain": [
       "<Figure size 648x432 with 1 Axes>"
      ]
     },
     "metadata": {
      "needs_background": "light"
     },
     "output_type": "display_data"
    }
   ],
   "source": [
    "import numpy as np\n",
    "worker_num_assignments = {}\n",
    "# Retrieve worker ids from dataset\n",
    "for entry in csv_entries:\n",
    "    worker_id = entry['WorkerId']\n",
    "    occurences = worker_num_assignments.get(worker_id, 0)\n",
    "    occurences += 1\n",
    "    worker_num_assignments[worker_id] = occurences\n",
    "\n",
    "from statistics import median, mean, stdev\n",
    "\n",
    "# Get only the number of assignments of individual workers\n",
    "num_assignments = [worker_num_assignments[worker] for worker in worker_num_assignments.keys()]\n",
    "# Sort them from low to high\n",
    "num_assignments = sorted(num_assignments)\n",
    "\n",
    "print(\"Num Workers: \" + str(len(num_assignments)))\n",
    "print(\"Mean of assignments one worker has done: \" + str(mean(num_assignments)))\n",
    "print(\"Median of assignments one worker has done: \" + str(median(num_assignments)))\n",
    "print(\"Std Dev of assignments one worker has done: \" + str(stdev(num_assignments)))\n",
    "\n",
    "print(f\"Percent of workers did 10 or less: {num_assignments.index(11)/len(num_assignments)}\")\n",
    "print(f\"Percent of workers did only one task: {num_assignments.index(2)/len(num_assignments)}\")\n",
    "print(f\"Number of workers did only one task: {num_assignments.index(2)}\")\n",
    "\n",
    "\n",
    "# Plot histogram over num workers:\n",
    "import matplotlib.pyplot as plt\n",
    "binwidth = 100\n",
    "plt.figure(figsize=(9,6))\n",
    "plt.hist([num_assignments], color=['blue'], bins=np.arange(min(num_assignments), max(num_assignments) + binwidth, binwidth))\n",
    "plt.xlabel(\"Number of assignments done\")\n",
    "plt.ylabel(\"Number of workers\")\n",
    "plt.show()\n",
    "\n"
   ]
  },
  {
   "cell_type": "markdown",
   "metadata": {},
   "source": [
    "# Poem answer distribution"
   ]
  },
  {
   "cell_type": "code",
   "execution_count": 4,
   "metadata": {},
   "outputs": [
    {
     "name": "stdout",
     "output_type": "stream",
     "text": [
      "10809\n",
      "Relative ratio between votes:\n",
      "{'coherent': 0.5461942257217848, 'grammatical': 0.5451443569553805, 'moved': 0.5601049868766405, 'real': 0.5653543307086614, 'rhyming': 0.5606299212598426, 'readable': 0.5514435695538058, 'comprehensible': 0.5585301837270341, 'intense': 0.5398950131233596, 'liking': 0.5627296587926509, 'melodious': 0.5380577427821522}\n",
      "\n",
      "Absolute count of votes for poem 1:\n",
      "{'coherent': 2081, 'grammatical': 2077, 'moved': 2134, 'real': 2154, 'rhyming': 2136, 'readable': 2101, 'comprehensible': 2128, 'intense': 2057, 'liking': 2144, 'melodious': 2050}\n",
      "\n",
      "Absolute count of votes for poem 2:\n",
      "{'coherent': 1729, 'grammatical': 1733, 'moved': 1676, 'real': 1656, 'rhyming': 1674, 'readable': 1709, 'comprehensible': 1682, 'intense': 1753, 'liking': 1666, 'melodious': 1760}\n",
      "\n"
     ]
    }
   ],
   "source": [
    "from dataset_utils import DatasetEntry\n",
    "import json\n",
    "from collections import Counter\n",
    "\n",
    "pair_ids = []\n",
    "dataset_entries = {}\n",
    "for entry in csv_entries:\n",
    "    # Get entry id\n",
    "    pair_id = entry['Input.pair_id']\n",
    "    # If entry is not yet in dict create it\n",
    "    if pair_id not in dataset_entries.keys():\n",
    "        pair_ids.append(pair_id)\n",
    "        # Get poem details\n",
    "        poem1 = entry['Input.poem1']\n",
    "        poem2 = entry['Input.poem2']\n",
    "        dataset1 = entry['Input.poem1_dataset']\n",
    "        dataset2 = entry['Input.poem2_dataset']\n",
    "\n",
    "        dataset_entries[pair_id] = DatasetEntry(pair_id, poem1, poem2, dataset1, dataset2)\n",
    "\n",
    "    dataset_entry = dataset_entries[pair_id]\n",
    "    submitted_values = json.loads(str(entry['Answer.taskAnswers']))[0]\n",
    "    dataset_entry.update_values(submitted_values)   \n",
    "    dataset_entries[pair_id] = dataset_entry\n",
    "\n",
    "\n",
    "vote_ratios_in_each_cat = {}\n",
    "votes_in_each_cat_1 = {}\n",
    "votes_in_each_cat_2 = {}\n",
    "\n",
    "for cat in [\"coherent\", \"grammatical\", \"moved\", \"real\", \"rhyming\", \"readable\", \"comprehensible\", \"intense\", \"liking\", \"melodious\"]:\n",
    "    cat_entries = []\n",
    "    for key in dataset_entries:\n",
    "        cat_entries.extend(getattr(dataset_entries[key], cat))\n",
    "    cat_counter = Counter(cat_entries)\n",
    "    votes_1 = cat_counter['1']\n",
    "    votes_2 = cat_counter['2']\n",
    "    vote_ratios_in_each_cat[cat] = votes_1/(votes_1+votes_2)\n",
    "    votes_in_each_cat_1[cat] = votes_1\n",
    "    votes_in_each_cat_2[cat] = votes_2\n",
    "\n",
    "\n",
    "print(f\"Relative ratio between votes:\\n{vote_ratios_in_each_cat}\\n\")\n",
    "print(f\"Absolute count of votes for poem 1:\\n{votes_in_each_cat_1}\\n\")\n",
    "print(f\"Absolute count of votes for poem 2:\\n{votes_in_each_cat_2}\\n\")"
   ]
  },
  {
   "cell_type": "markdown",
   "metadata": {},
   "source": [
    "# Check on suspicious activity in dataset"
   ]
  },
  {
   "cell_type": "code",
   "execution_count": 5,
   "metadata": {},
   "outputs": [
    {
     "name": "stdout",
     "output_type": "stream",
     "text": [
      "['A1CF6U3GF7DZEJ', 'A3P7M9666KJCP', 'A681XM15AN28F', 'A10NF5TK6IFNX6', 'A2HM35CWB7IIFM', 'A1EZV3Q6PGMQTY', 'A1BQBQG2GNY8AY', 'AQN3RS63MEPQA', 'A3UDP95JGEX3H1', 'A1RQP36KU5S3B1', 'A1S88VQY8G8CNC', 'A3VLTC2Z0NPV7J', 'A3728C36S28ER2', 'ARPBDM5QZ4XQC', 'A2CHN7YRG2LE9E', 'A1CKPHJ229URZM', 'A2BK6PDD4J2X1T', 'A26BHQZCY7GRNP', 'A12NVHDVHC2V8T', 'A3M3VOCB8C2YK4', 'A1TJ3LM4KVXNWG', 'A1Z268VWTV5HY0', 'A37L9NNKEP0RHE', 'A2J3YWMJPF4N6D', 'A2L6JHIJDE1F2X', 'A3IDJVAGS1SCJ5']\n",
      "26\n",
      "[('A1CF6U3GF7DZEJ', 0.7370892018779343, 426), ('A3P7M9666KJCP', 0.6793893129770993, 131), ('A681XM15AN28F', 0.847457627118644, 1652), ('A10NF5TK6IFNX6', 0.7448979591836735, 98), ('A2HM35CWB7IIFM', 0.7297297297297297, 37), ('A1EZV3Q6PGMQTY', 0.7083333333333334, 24), ('A1BQBQG2GNY8AY', 0.7636363636363637, 55), ('AQN3RS63MEPQA', 0.71875, 32), ('A3UDP95JGEX3H1', 0.75, 32), ('A1RQP36KU5S3B1', 0.7692307692307693, 26), ('A1S88VQY8G8CNC', 0.3333333333333333, 21), ('A3VLTC2Z0NPV7J', 0.6556962025316456, 395), ('A3728C36S28ER2', 0.9505376344086022, 465), ('ARPBDM5QZ4XQC', 0.32857142857142857, 210), ('A2CHN7YRG2LE9E', 0.8714285714285714, 140), ('A1CKPHJ229URZM', 0.6685714285714286, 175), ('A2BK6PDD4J2X1T', 0.3333333333333333, 45), ('A26BHQZCY7GRNP', 0.7428571428571429, 35), ('A12NVHDVHC2V8T', 0.65, 40), ('A3M3VOCB8C2YK4', 0.68, 25), ('A1TJ3LM4KVXNWG', 0.8181818181818182, 110), ('A1Z268VWTV5HY0', 0.6833333333333333, 60), ('A37L9NNKEP0RHE', 0.6933333333333334, 75), ('A2J3YWMJPF4N6D', 0.28, 25), ('A2L6JHIJDE1F2X', 0.7333333333333333, 135), ('A3IDJVAGS1SCJ5', 0.3, 50)]\n"
     ]
    }
   ],
   "source": [
    "import json\n",
    "from collections import Counter\n",
    "# Create stats about worker preferences\n",
    "vote_preference_per_worker = {}\n",
    "for entry in csv_entries:\n",
    "    worker_id = entry['WorkerId']\n",
    "    worker_votes = vote_preference_per_worker.get(worker_id, [])\n",
    "    votes = json.loads(entry['Answer.taskAnswers'])[0]\n",
    "    for key in votes:\n",
    "        if votes[key]['1']:\n",
    "            worker_votes.append(1)\n",
    "        elif votes[key]['2']:\n",
    "            worker_votes.append(2)\n",
    "        else:\n",
    "            worker_votes.append(0)\n",
    "    vote_preference_per_worker[worker_id] = worker_votes\n",
    "\n",
    "def calc_worker_pref_ratio(vote_list):\n",
    "    counter = Counter(vote_list)\n",
    "    votes_1 = counter[1]\n",
    "    votes_2 = counter[2]\n",
    "    num_votes = votes_1 + votes_2\n",
    "    if votes_1 == 0:\n",
    "        ratio = 0.\n",
    "    if votes_2 == 0:\n",
    "        ratio = 1.\n",
    "    else:\n",
    "        ratio = votes_1 / (votes_1 + votes_2)\n",
    "    return ratio, num_votes\n",
    "    \n",
    "vote_preference_per_worker = {worker_id: calc_worker_pref_ratio(vote_preference_per_worker[worker_id]) for worker_id in vote_preference_per_worker}\n",
    "\n",
    "sus_workers = [(worker_id, vote_preference_per_worker[worker_id][0], vote_preference_per_worker[worker_id][1]) for worker_id in vote_preference_per_worker if not 0.35 < vote_preference_per_worker[worker_id][0] < 0.65 and vote_preference_per_worker[worker_id][1] > 20]\n",
    "print([sus_w[0] for sus_w in sus_workers])\n",
    "print(len(sus_workers))\n",
    "print(sus_workers)"
   ]
  },
  {
   "cell_type": "markdown",
   "metadata": {},
   "source": [
    "# Check on individual workers"
   ]
  },
  {
   "cell_type": "code",
   "execution_count": null,
   "metadata": {},
   "outputs": [],
   "source": [
    "worktime_measures = []\n",
    "last_submission_date = \"\"\n",
    "first_submission_date = \"\"\n",
    "for entry in csv_entries:\n",
    "    if (entry['WorkerId'] == 'AXQWKUJF7SQXP'):\n",
    "        worktime = int(entry['WorkTimeInSeconds'])\n",
    "        worktime_measures.append(worktime)\n",
    "        if worktime < 10:\n",
    "            print(entry['Input.poem1'].replace(\"<br>\", \"\\n\"))\n",
    "            print(\"=====\")\n",
    "            print(entry['Input.poem2'].replace(\"<br>\", \"\\n\"))\n",
    "            print(entry['Answer.taskAnswers'])\n",
    "            print()\n",
    "            print()\n",
    "            \n",
    "        last_submission_date = entry['SubmitTime']\n",
    "from statistics import mean\n",
    "print(len(worktime_measures))\n",
    "print(mean(worktime_measures))\n",
    "print(last_submission_date)\n",
    "        \n",
    "        "
   ]
  },
  {
   "cell_type": "markdown",
   "metadata": {},
   "source": [
    "# Batch review and rejection of workers"
   ]
  },
  {
   "cell_type": "code",
   "execution_count": null,
   "metadata": {},
   "outputs": [],
   "source": [
    "batch_path = \"batch_results/Batch_4265208_batch_results_main.csv\"\n",
    "with open(batch_path, \"r\") as f:\n",
    "    lines = f.readlines()\n",
    "\n",
    "num_to_reject = sum([w[2] for w in sus_workers])\n",
    "print(\"Number of expected rejections: \" + str(num_to_reject))\n",
    "reject_workers = [w[0] for w in sus_workers]\n",
    "reviewed_lines = []\n",
    "rejections = 0\n",
    "for idx, line in enumerate(lines):\n",
    "    line = line.strip()\n",
    "    if idx == 0:\n",
    "        reviewed_lines.append(line)\n",
    "        continue\n",
    "    reject_line = False\n",
    "    for worker in reject_workers:\n",
    "        if worker in line:\n",
    "            reject_line = True\n",
    "            rejections += 1\n",
    "            break\n",
    "    if reject_line:\n",
    "        line = line + ',\"\",\"Worker not trustworthy since one option was too many times preferred over another in a statistically very unlikely scenario\"'\n",
    "    else:\n",
    "        line = line + ',\"\",\"\"'\n",
    "        \n",
    "    reviewed_lines.append(line)\n",
    "\n",
    "print(len(reviewed_lines))\n",
    "print(\"Rejections: \" + str(rejections))\n",
    "with open(\"batch_results/Batch_4265208_batch_results_reviewed.csv\", \"w+\") as f:\n",
    "    for line in reviewed_lines:\n",
    "        f.write(line + \"\\n\")\n",
    "        \n",
    "            "
   ]
  },
  {
   "cell_type": "markdown",
   "metadata": {},
   "source": [
    "# Get stats over consensus of votes"
   ]
  },
  {
   "cell_type": "code",
   "execution_count": 6,
   "metadata": {},
   "outputs": [
    {
     "name": "stdout",
     "output_type": "stream",
     "text": [
      "{'coherent': 0.5620853080568721, 'grammatical': 0.54739336492891, 'moved': 0.576303317535545, 'real': 0.5682464454976304, 'rhyming': 0.5710900473933649, 'readable': 0.556872037914692, 'comprehensible': 0.5710900473933649, 'intense': 0.5511848341232227, 'liking': 0.5824644549763033, 'melodious': 0.5412322274881517}\n"
     ]
    }
   ],
   "source": [
    "final_dataset = []\n",
    "for entry in dataset_entries:\n",
    "    final_dataset.append(dataset_entries[entry].get_consensus())\n",
    "\n",
    "vote_ratios_in_each_cat = {}\n",
    "for cat in [\"coherent\", \"grammatical\", \"moved\", \"real\", \"rhyming\", \"readable\", \"comprehensible\", \"intense\", \"liking\", \"melodious\"]:\n",
    "    cat_entries = []\n",
    "    for elem in final_dataset:\n",
    "        cat_entries.append(getattr(elem, cat))\n",
    "    cat_counter = Counter(cat_entries)\n",
    "    votes_1 = cat_counter['1']\n",
    "    votes_2 = cat_counter['2']\n",
    "    vote_ratios_in_each_cat[cat] = votes_1/(votes_1+votes_2)\n",
    "\n",
    "print(vote_ratios_in_each_cat)"
   ]
  },
  {
   "cell_type": "code",
   "execution_count": null,
   "metadata": {},
   "outputs": [],
   "source": [
    "# Distribution of datasets"
   ]
  },
  {
   "cell_type": "code",
   "execution_count": 8,
   "metadata": {},
   "outputs": [
    {
     "name": "stdout",
     "output_type": "stream",
     "text": [
      "{'lstm': 326, 'gutenberg': 1708, 'true_poetry': 377, 'hafez': 376, 'jhamtani': 344, 'ngram': 408, 'gpt2': 343, 'deepspeare': 338}\n",
      "['lstm', 'gutenberg', 'true_poetry', 'hafez', 'jhamtani', 'ngram', 'gpt2', 'deepspeare']\n",
      "[326, 1708, 377, 376, 344, 408, 343, 338]\n"
     ]
    },
    {
     "data": {
      "image/png": "[encoded data removed]",
      "text/plain": [
       "<Figure size 432x432 with 1 Axes>"
      ]
     },
     "metadata": {},
     "output_type": "display_data"
    }
   ],
   "source": [
    "from collections import Counter\n",
    "import matplotlib.pyplot as plt\n",
    "\n",
    "\n",
    "dataset_occs = []\n",
    "for id, entry in dataset_entries.items():\n",
    "    dataset_occs.extend([entry.dataset1, entry.dataset2])\n",
    "\n",
    "dataset_count = dict(Counter(dataset_occs))\n",
    "dataset_names = [k for k in dataset_count]\n",
    "occs = [dataset_count[k] for k in dataset_names]\n",
    "print(dataset_count)\n",
    "print(dataset_names)\n",
    "print(occs)\n",
    "\n",
    "labels = dataset_names\n",
    "sizes = occs\n",
    "colors = ['green', 'blue', 'lightblue', 'red', 'yellow', 'purple', 'gray', 'pink']\n",
    "\n",
    "# plot\n",
    "plt.figure(figsize=(6,6))\n",
    "plt.pie(sizes,              # data\n",
    "        labels=labels,      # slice labels\n",
    "        colors=colors,      # array of clors\n",
    "        autopct='%1.1f%%',  # print the values inside the wedges\n",
    "        shadow=True,        # enable shadow\n",
    "        startangle=140)     # startin angle\n",
    "\n",
    "plt.axis('equal')\n",
    "\n",
    "plt.show()"
   ]
  },
  {
   "cell_type": "markdown",
   "metadata": {},
   "source": [
    "# Accuracy of annotators in category 'real'"
   ]
  },
  {
   "cell_type": "code",
   "execution_count": 12,
   "metadata": {},
   "outputs": [
    {
     "name": "stdout",
     "output_type": "stream",
     "text": [
      "Annotations on real correct:\t2048\n",
      "Annotations on real wrong:\t1662\n",
      "Accuracy of annotators choosing Real: 0.5520215633423181\n"
     ]
    }
   ],
   "source": [
    "votes_real_correct = 0\n",
    "votes_real_false = 0\n",
    "for key in dataset_entries:\n",
    "    entry = dataset_entries[key]\n",
    "    if entry.dataset1 == \"gutenberg\" and entry.dataset2 == \"gutenberg\":\n",
    "        votes_real_correct += 1\n",
    "        continue\n",
    "    \n",
    "    real = \"1\" if entry.dataset1 == \"gutenberg\" else \"2\"\n",
    "    for vote in entry.real:\n",
    "        if real == vote:\n",
    "            votes_real_correct += 1\n",
    "        else:\n",
    "            votes_real_false += 1\n",
    "    \n",
    "print(f\"Annotations on real correct:\\t{votes_real_correct}\")\n",
    "print(f\"Annotations on real wrong:\\t{votes_real_false}\")\n",
    "real_acc = float(votes_real_correct) / float(votes_real_correct + votes_real_false)\n",
    "print(f\"Accuracy of annotators choosing Real: {real_acc}\")\n",
    "    "
   ]
  },
  {
   "cell_type": "markdown",
   "metadata": {},
   "source": [
    "# Correlation analysis between features"
   ]
  },
  {
   "cell_type": "code",
   "execution_count": 13,
   "metadata": {},
   "outputs": [
    {
     "name": "stdout",
     "output_type": "stream",
     "text": [
      "coherent - coherent:\t\t\t0.9999999999999994\n",
      "coherent - grammatical:\t\t\t0.17273030189217853\n",
      "coherent - moved:\t\t\t0.22184889380871117\n",
      "coherent - real:\t\t\t0.18417085888001306\n",
      "coherent - rhyming:\t\t\t0.1524120874499733\n",
      "coherent - readable:\t\t\t0.17219782033354106\n",
      "coherent - comprehensible:\t\t\t0.15007660323098543\n",
      "coherent - intense:\t\t\t0.045076633841554414\n",
      "coherent - liking:\t\t\t0.16365343477292296\n",
      "coherent - melodious:\t\t\t0.1576747695033598\n",
      "grammatical - coherent:\t\t\t0.17273030189217853\n",
      "grammatical - grammatical:\t\t\t1.0\n",
      "grammatical - moved:\t\t\t0.19727465510823144\n",
      "grammatical - real:\t\t\t0.16545405051024548\n",
      "grammatical - rhyming:\t\t\t0.20721031798222822\n",
      "grammatical - readable:\t\t\t0.20595365599807514\n",
      "grammatical - comprehensible:\t\t\t0.12139072642435457\n",
      "grammatical - intense:\t\t\t0.09659365192499869\n",
      "grammatical - liking:\t\t\t0.17984239476991737\n",
      "grammatical - melodious:\t\t\t0.15296775269944807\n",
      "moved - coherent:\t\t\t0.22184889380871117\n",
      "moved - grammatical:\t\t\t0.19727465510823144\n",
      "moved - moved:\t\t\t1.0\n",
      "moved - real:\t\t\t0.16552381995670706\n",
      "moved - rhyming:\t\t\t0.13868280616807904\n",
      "moved - readable:\t\t\t0.11967281484135071\n",
      "moved - comprehensible:\t\t\t0.16530775082387433\n",
      "moved - intense:\t\t\t0.16082135849470633\n",
      "moved - liking:\t\t\t0.10112371706952716\n",
      "moved - melodious:\t\t\t0.168045011624435\n",
      "real - coherent:\t\t\t0.18417085888001306\n",
      "real - grammatical:\t\t\t0.16545405051024548\n",
      "real - moved:\t\t\t0.16552381995670706\n",
      "real - real:\t\t\t1.0\n",
      "real - rhyming:\t\t\t0.18227997871926954\n",
      "real - readable:\t\t\t0.15423382916966552\n",
      "real - comprehensible:\t\t\t0.09304205661692434\n",
      "real - intense:\t\t\t0.14375791944383104\n",
      "real - liking:\t\t\t0.18853666197160243\n",
      "real - melodious:\t\t\t0.13478658202793145\n",
      "rhyming - coherent:\t\t\t0.1524120874499733\n",
      "rhyming - grammatical:\t\t\t0.20721031798222822\n",
      "rhyming - moved:\t\t\t0.13868280616807904\n",
      "rhyming - real:\t\t\t0.18227997871926954\n",
      "rhyming - rhyming:\t\t\t1.0\n",
      "rhyming - readable:\t\t\t0.2247349125146803\n",
      "rhyming - comprehensible:\t\t\t0.20235022640540618\n",
      "rhyming - intense:\t\t\t0.11781740327774784\n",
      "rhyming - liking:\t\t\t0.1801262226965882\n",
      "rhyming - melodious:\t\t\t0.23449625928580262\n",
      "readable - coherent:\t\t\t0.17219782033354106\n",
      "readable - grammatical:\t\t\t0.20595365599807514\n",
      "readable - moved:\t\t\t0.11967281484135071\n",
      "readable - real:\t\t\t0.15423382916966552\n",
      "readable - rhyming:\t\t\t0.2247349125146803\n",
      "readable - readable:\t\t\t0.9999999999999998\n",
      "readable - comprehensible:\t\t\t0.14936549174131142\n",
      "readable - intense:\t\t\t0.09743864699506032\n",
      "readable - liking:\t\t\t0.22139843002231901\n",
      "readable - melodious:\t\t\t0.14244674847954594\n",
      "comprehensible - coherent:\t\t\t0.15007660323098543\n",
      "comprehensible - grammatical:\t\t\t0.12139072642435457\n",
      "comprehensible - moved:\t\t\t0.16530775082387433\n",
      "comprehensible - real:\t\t\t0.09304205661692434\n",
      "comprehensible - rhyming:\t\t\t0.20235022640540618\n",
      "comprehensible - readable:\t\t\t0.14936549174131142\n",
      "comprehensible - comprehensible:\t\t\t0.9999999999999991\n",
      "comprehensible - intense:\t\t\t0.1477039349933539\n",
      "comprehensible - liking:\t\t\t0.23319216077177699\n",
      "comprehensible - melodious:\t\t\t0.14936549174131142\n",
      "intense - coherent:\t\t\t0.045076633841554414\n",
      "intense - grammatical:\t\t\t0.09659365192499869\n",
      "intense - moved:\t\t\t0.16082135849470633\n",
      "intense - real:\t\t\t0.14375791944383104\n",
      "intense - rhyming:\t\t\t0.11781740327774784\n",
      "intense - readable:\t\t\t0.09743864699506032\n",
      "intense - comprehensible:\t\t\t0.1477039349933539\n",
      "intense - intense:\t\t\t0.9999999999999997\n",
      "intense - liking:\t\t\t0.1486781692405288\n",
      "intense - melodious:\t\t\t0.1503298719241642\n",
      "liking - coherent:\t\t\t0.16365343477292296\n",
      "liking - grammatical:\t\t\t0.17984239476991737\n",
      "liking - moved:\t\t\t0.10112371706952716\n",
      "liking - real:\t\t\t0.18853666197160243\n",
      "liking - rhyming:\t\t\t0.1801262226965882\n",
      "liking - readable:\t\t\t0.22139843002231901\n",
      "liking - comprehensible:\t\t\t0.23319216077177699\n",
      "liking - intense:\t\t\t0.1486781692405288\n",
      "liking - liking:\t\t\t1.0\n",
      "liking - melodious:\t\t\t0.1822922602433235\n",
      "melodious - coherent:\t\t\t0.1576747695033598\n",
      "melodious - grammatical:\t\t\t0.15296775269944807\n",
      "melodious - moved:\t\t\t0.168045011624435\n",
      "melodious - real:\t\t\t0.13478658202793145\n",
      "melodious - rhyming:\t\t\t0.23449625928580262\n",
      "melodious - readable:\t\t\t0.14244674847954594\n",
      "melodious - comprehensible:\t\t\t0.14936549174131142\n",
      "melodious - intense:\t\t\t0.1503298719241642\n",
      "melodious - liking:\t\t\t0.1822922602433235\n",
      "melodious - melodious:\t\t\t0.9999999999999998\n",
      "[0 1 2 3 4 5 6 7 8 9]\n"
     ]
    },
    {
     "data": {
      "image/png": "[encoded data removed]",
      "text/plain": [
       "<Figure size 504x504 with 2 Axes>"
      ]
     },
     "metadata": {
      "needs_background": "light"
     },
     "output_type": "display_data"
    }
   ],
   "source": [
    "from scipy import stats\n",
    "from statistics import median\n",
    "import numpy as np\n",
    "import matplotlib.pyplot as plt\n",
    "\n",
    "categories = [\"coherent\", \"grammatical\", \"moved\", \"real\", \"rhyming\", \"readable\", \"comprehensible\", \"intense\", \"liking\", \"melodious\"]\n",
    "\n",
    "# dict mit cat als keys was als entry wieder alle categorien hat \n",
    "\n",
    "votes_per_cat = {}\n",
    "for cat in categories:\n",
    "    votes_per_cat[cat] = []\n",
    "    for key in dataset_entries:\n",
    "        votes = [int(v) for v in getattr(dataset_entries[key], cat)]\n",
    "        if len(votes) > 1:\n",
    "            vote = median(votes)\n",
    "            votes_per_cat[cat].append(vote)\n",
    "\n",
    "correlations = []\n",
    "for i, cat1 in enumerate(categories):\n",
    "    correlations.append([])\n",
    "    for j, cat2 in enumerate(categories):\n",
    "        corr = stats.pearsonr(votes_per_cat[cat1], votes_per_cat[cat2])[0]\n",
    "        correlations[i].append(corr)\n",
    "        print(f\"{cat1} - {cat2}:\\t\\t\\t{corr}\")\n",
    "\n",
    "fig = plt.figure(figsize=(7,7))\n",
    "plt.rcParams.update({'font.size': 16})\n",
    "ax = fig.add_subplot(111)\n",
    "\n",
    "cax = ax.matshow(correlations, cmap=plt.get_cmap('seismic'), vmin=-1, vmax=1)\n",
    "fig.colorbar(cax, ticks=np.arange(-1, 1.2, 0.2))\n",
    "xaxis = np.arange(len(categories))\n",
    "print(xaxis)\n",
    "ax.set_xticks(xaxis)\n",
    "ax.set_yticks(xaxis)\n",
    "\n",
    "ax.set_xticklabels(categories, rotation=90)\n",
    "ax.set_yticklabels(categories)\n",
    "\n",
    "plt.show()"
   ]
  },
  {
   "cell_type": "code",
   "execution_count": null,
   "metadata": {},
   "outputs": [],
   "source": [
    "# Statistic over work times"
   ]
  },
  {
   "cell_type": "code",
   "execution_count": 14,
   "metadata": {},
   "outputs": [
    {
     "name": "stdout",
     "output_type": "stream",
     "text": [
      "244.82347449053887\n",
      "978\n"
     ]
    },
    {
     "data": {
      "image/png": "[encoded data removed]",
      "text/plain": [
       "<Figure size 432x288 with 1 Axes>"
      ]
     },
     "metadata": {
      "needs_background": "light"
     },
     "output_type": "display_data"
    }
   ],
   "source": [
    "from statistics import mean, stdev\n",
    "import matplotlib.pyplot as plt\n",
    "assign_times = []\n",
    "for ent in csv_entries:\n",
    "    assign_times.append(int(ent['WorkTimeInSeconds']))\n",
    "\n",
    "    \n",
    "mean_time = mean(assign_times)\n",
    "std_time = stdev(assign_times)\n",
    "print(std_time)\n",
    "\n",
    "cleaned_times = [t for t in assign_times if (abs(t - mean_time) < std_time)]\n",
    "\n",
    "less_than_30 = len([t for t in assign_times if t < 10])\n",
    "print(less_than_30)\n",
    "\n",
    "plt.hist(cleaned_times)\n",
    "plt.show()\n"
   ]
  }
 ],
 "metadata": {
  "kernelspec": {
   "display_name": "Python 3",
   "language": "python",
   "name": "python3"
  },
  "language_info": {
   "codemirror_mode": {
    "name": "ipython",
    "version": 3
   },
   "file_extension": ".py",
   "mimetype": "text/x-python",
   "name": "python",
   "nbconvert_exporter": "python",
   "pygments_lexer": "ipython3",
   "version": "3.9.1"
  }
 },
 "nbformat": 4,
 "nbformat_minor": 4
}
